{
 "cells": [
  {
   "cell_type": "markdown",
   "id": "BmjjKWFFM4oc",
   "metadata": {
    "cell_id": "abc7bda2-7a80-4e3a-a95b-f8f4660edf5a",
    "deepnote_cell_height": 503.125,
    "deepnote_cell_type": "markdown",
    "id": "BmjjKWFFM4oc"
   },
   "source": [
    "# Image recognition using CNN features, RF and XGBoosting"
   ]
  },
  {
   "cell_type": "code",
   "execution_count": null,
   "id": "kWrcJGJiM4oe",
   "metadata": {
    "cell_id": "9154a534c3c743a9a61b53566b012601",
    "deepnote_cell_height": 318.6875,
    "deepnote_cell_type": "code",
    "deepnote_to_be_reexecuted": false,
    "execution_millis": 65466,
    "execution_start": 1653263838366,
    "id": "kWrcJGJiM4oe",
    "outputId": "bce9cba2-74f6-4a42-bb38-30cf7d2ba788",
    "source_hash": "5f746bf9",
    "tags": []
   },
   "outputs": [
    {
     "name": "stdout",
     "output_type": "stream",
     "text": [
      "Requirement already satisfied: xgboost==1.6.1 in c:\\tools\\anaconda3\\envs\\data601-intro to ds\\lib\\site-packages (1.6.1)\n",
      "Requirement already satisfied: scipy in c:\\tools\\anaconda3\\envs\\data601-intro to ds\\lib\\site-packages (from xgboost==1.6.1) (1.7.1)\n",
      "Requirement already satisfied: numpy in c:\\tools\\anaconda3\\envs\\data601-intro to ds\\lib\\site-packages (from xgboost==1.6.1) (1.21.3)\n"
     ]
    }
   ],
   "source": [
    "!pip install xgboost==1.6.1"
   ]
  },
  {
   "cell_type": "code",
   "execution_count": null,
   "id": "oistwK0QM4of",
   "metadata": {
    "cell_id": "00003-a98f79fc-eefa-4013-bd4f-b96d68a02af1",
    "deepnote_cell_height": 405,
    "deepnote_cell_type": "code",
    "deepnote_to_be_reexecuted": false,
    "execution_millis": 7286,
    "execution_start": 1653263903863,
    "id": "oistwK0QM4of",
    "source_hash": "18ead40f"
   },
   "outputs": [],
   "source": [
    "# Import libraries\n",
    "\n",
    "import pandas as pd\n",
    "import numpy as np\n",
    "from sklearn.model_selection import train_test_split\n",
    "import sys\n",
    "import matplotlib.pyplot as plt\n",
    "import matplotlib\n",
    "from sklearn import datasets, svm, metrics\n",
    "from sklearn.model_selection import train_test_split\n",
    "from sklearn.metrics import precision_score\n",
    "from sklearn.metrics import recall_score\n",
    "from sklearn.model_selection import cross_val_score\n",
    "import xgboost as xgb\n",
    "from sklearn.ensemble import RandomForestClassifier\n",
    "from sklearn.model_selection import RandomizedSearchCV\n",
    "from sklearn.model_selection import cross_val_score\n",
    "import scipy.stats\n"
   ]
  },
  {
   "cell_type": "code",
   "execution_count": null,
   "id": "pL1PffkyM4of",
   "metadata": {
    "cell_id": "00006-e37f71e3-1504-4ed9-97c6-53fab7f46aaf",
    "deepnote_cell_height": 172.1875,
    "deepnote_cell_type": "code",
    "deepnote_output_heights": [
     21.1875
    ],
    "deepnote_to_be_reexecuted": false,
    "execution_millis": 534,
    "execution_start": 1653263911152,
    "id": "pL1PffkyM4of",
    "outputId": "c7ddada0-90b3-4831-8edb-78e122bebd8a",
    "source_hash": "6fa5e28d"
   },
   "outputs": [
    {
     "data": {
      "text/plain": [
       "['DESCR', 'data', 'feature_names', 'frame', 'images', 'target', 'target_names']"
      ]
     },
     "execution_count": 3,
     "metadata": {},
     "output_type": "execute_result"
    }
   ],
   "source": [
    "# Import dataset\n",
    "\n",
    "digits = datasets.load_digits()\n",
    "dir(digits)"
   ]
  },
  {
   "cell_type": "markdown",
   "id": "fb13918c",
   "metadata": {},
   "source": [
    "## Generate Convoluted Features"
   ]
  },
  {
   "cell_type": "code",
   "execution_count": null,
   "id": "DydBGXzBM4oh",
   "metadata": {
    "cell_id": "00009-0c70eb48-3921-4cad-a6b8-d627356fe1b2",
    "deepnote_cell_height": 315,
    "deepnote_cell_type": "code",
    "deepnote_to_be_reexecuted": false,
    "execution_millis": 26,
    "execution_start": 1653263911464,
    "id": "DydBGXzBM4oh",
    "source_hash": "e8b448f7"
   },
   "outputs": [],
   "source": [
    "def zero_padding(imgs):\n",
    "    \"\"\"\n",
    "    Takes an array and pads it with 2 zeroes on each side (left/right and up/down)\n",
    "    to create a resulting array with Same Padding\n",
    "    \"\"\"\n",
    "\n",
    "    padded_imgs = []\n",
    "    \n",
    "    # Loop through each img to apply padding\n",
    "    for i in range(len(imgs)):\n",
    "        padded_img = np.pad(imgs[i], [(2, ), (2, )], mode='constant')\n",
    "        padded_imgs.append(padded_img)\n",
    "    \n",
    "    return padded_imgs"
   ]
  },
  {
   "cell_type": "code",
   "execution_count": null,
   "id": "Dv7rWLQ9M4oh",
   "metadata": {
    "cell_id": "00010-a9035d35-40f9-4366-acbf-10d1e6c4d19b",
    "deepnote_cell_height": 1305,
    "deepnote_cell_type": "code",
    "deepnote_to_be_reexecuted": false,
    "execution_millis": 52,
    "execution_start": 1653263911500,
    "id": "Dv7rWLQ9M4oh",
    "source_hash": "6e047de0"
   },
   "outputs": [],
   "source": [
    "class conv_layer_1:\n",
    "\n",
    "    def __init__(self, img, conv_filter):\n",
    "\n",
    "        self.img = img\n",
    "        self.conv_filter = conv_filter\n",
    "        \n",
    "    def conv_(self, img, conv_filter):\n",
    "        \"\"\"\n",
    "        Apply edge convolutional feature - \n",
    "        Steps:\n",
    "        Step 1: Pick the filter, here we have used 3*3 vertical filter\n",
    "        Step 2: Multiple the filter on selected region of image that is 3*3\n",
    "        Step 3: Sumup the result of Step 2\n",
    "        Step 4: Save the new image\n",
    "        \"\"\"\n",
    "        \n",
    "        self.fil_sz = conv_filter.shape[1]\n",
    "        self.result = np.zeros((img.shape))\n",
    "\n",
    "        for r in np.uint16(np.arange(self.fil_sz/2.0, img.shape[0]-self.fil_sz/2.0+1)):\n",
    "\n",
    "            for c in np.uint16(np.arange(self.fil_sz/2.0, img.shape[1]-self.fil_sz/2.0+1)):\n",
    "\n",
    "                # Selecting the current region for kernel and matrix multiplication\n",
    "                curr_rg = img[int(r-(np.floor(self.fil_sz/2.0))) : int(r+(np.ceil(self.fil_sz/2.0))), \n",
    "                                   int(c-(np.floor(self.fil_sz/2.0))) : int(c+(np.ceil(self.fil_sz/2.0)))]\n",
    "\n",
    "                #Element-wise multiplication between the current region and the filter.\n",
    "                self.curr_result = curr_rg * conv_filter\n",
    "                \n",
    "\n",
    "                self.conv_sum = np.sum(self.curr_result) #Summing the result of multiplication.\n",
    "                \n",
    "\n",
    "                self.result[r, c] = self.conv_sum #Saving the summation in the convolution layer feature map.\n",
    "\n",
    "        #Clipping the outliers of the result matrix.\n",
    "        final_result = self.result[int(self.fil_sz/2.0):self.result.shape[0]-int(self.fil_sz/2.0), \n",
    "                              int(self.fil_sz/2.0):self.result.shape[1]-int(self.fil_sz/2.0)]\n",
    "        \n",
    "        return final_result\n",
    "    \n",
    "    def conv_layer_1_func(self, conv_filter, imgs):\n",
    "        \"\"\"\n",
    "        Apply conv function to all images and creates a dataframe.\n",
    "        \"\"\"\n",
    "\n",
    "        # Call the function\n",
    "        res_img_arr = []\n",
    "        \n",
    "        for img in imgs:\n",
    "            res_img = self.conv_(img, conv_filter)\n",
    "            res_img_arr.append(res_img)\n",
    "            # res_img = self.conv(img, conv_filter)\n",
    "            # res_img_arr.append(res_img[:,:,-1])\n",
    "\n",
    "        # Change res to numpy array\n",
    "        res_img_arr_np = np.array(res_img_arr)\n",
    "\n",
    "        # flatten the images\n",
    "        n_samples = len(res_img_arr_np)\n",
    "        data_filtered = res_img_arr_np.reshape((n_samples, -1))\n",
    "\n",
    "        # Convert to DF\n",
    "        df_ver = pd.DataFrame(data_filtered).add_prefix('ver_')\n",
    "\n",
    "        return df_ver, res_img_arr_np\n"
   ]
  },
  {
   "cell_type": "code",
   "execution_count": null,
   "id": "zsyqf7wwM4oh",
   "metadata": {
    "cell_id": "00011-073c884c-2880-465a-9bc5-7120a0d6908d",
    "deepnote_cell_height": 2313,
    "deepnote_cell_type": "code",
    "deepnote_to_be_reexecuted": false,
    "execution_millis": 66,
    "execution_start": 1653263911574,
    "id": "zsyqf7wwM4oh",
    "source_hash": "1d532eb0"
   },
   "outputs": [],
   "source": [
    "class conv_layer_2_3:\n",
    "    \n",
    "    def __init__(self, img, pool_size, stride):\n",
    "        \n",
    "        self.img = img\n",
    "        self.pool_size = pool_size\n",
    "        self.stride = stride\n",
    "        \n",
    "    def get_pools(self, img: np.array, pool_size: int, stride: int) -> np.array:\n",
    "        \"\"\"\n",
    "        Pass in image and return multiple pools based on pool size and stride size\n",
    "        \"\"\"\n",
    "\n",
    "        # To store each individual pool in the list\n",
    "        self.each_pool = []\n",
    "\n",
    "        # Iterate over all row blocks \n",
    "        for i in np.arange(img.shape[0], step=stride):\n",
    "            \n",
    "            # Iterate over all column blocks \n",
    "            for j in np.arange(img.shape[1], step=stride):\n",
    "            \n",
    "                # Extract the current pool\n",
    "                self.mat = img[i:i+pool_size, j:j+pool_size]\n",
    "\n",
    "                # Ensure each matrix has the shape identical to the pool size\n",
    "                if self.mat.shape == (pool_size, pool_size):\n",
    "                    \n",
    "                    # Append to the list of pools\n",
    "                    self.each_pool.append(self.mat)       \n",
    "        \n",
    "        # Return all pools as a Numpy array\n",
    "        return np.array(self.each_pool)\n",
    "    \n",
    "    def max_pooling(self, pools: np.array) -> np.array:\n",
    "        \"\"\"\n",
    "        Apply max pooling (highest #) convolutional filter\n",
    "        \"\"\"\n",
    "\n",
    "        # Total number of pools for each image\n",
    "        self.num_pools = pools.shape[0]\n",
    "        \n",
    "        # Shape of the matrix after pooling - Square root of the number of pools\n",
    "        # Cast it to int, as Numpy will return it as float\n",
    "        # For example --> np.sqrt(16) = 4.0 --> int(4.0) = 4\n",
    "        \n",
    "        self.target_shape = (int(np.sqrt(self.num_pools)), int(np.sqrt(self.num_pools)))\n",
    "        # To store the max values\n",
    "        self.pooled = []\n",
    "\n",
    "        # Iterate over all pools\n",
    "        for pool in pools:\n",
    "            \n",
    "            # Append the max value only\n",
    "            self.pooled.append(np.max(pool))\n",
    "\n",
    "        # Reshape to target shape\n",
    "        return np.array(self.pooled).reshape(self.target_shape)\n",
    "    \n",
    "    def min_pooling(self, pools: np.array) -> np.array:\n",
    "        \"\"\"\n",
    "        Apply min pooling (lowest #) convolutional filter\n",
    "        \"\"\"\n",
    "\n",
    "        # Total number of pools for each image\n",
    "        self.num_pools = pools.shape[0]\n",
    "       \n",
    "        # Shape of the matrix after pooling - Square root of the number of pools\n",
    "        # Cast it to int, as Numpy will return it as float\n",
    "        # For example -> np.sqrt(16) = 4.0 -> int(4.0) = 4\n",
    "        \n",
    "        self.target_shape = (int(np.sqrt(self.num_pools)), int(np.sqrt(self.num_pools)))\n",
    "        # To store the min values\n",
    "        self.pooled = []\n",
    "\n",
    "        # Iterate over all pools\n",
    "        for pool in pools:\n",
    "            \n",
    "            # Append the min value only\n",
    "            self.pooled.append(np.min(pool))\n",
    "\n",
    "        # Reshape to target shape\n",
    "        return np.array(self.pooled).reshape(self.target_shape)\n",
    "    \n",
    "    def conv_layer_2_func(self, imgs, pool_size, stride):\n",
    "        \"\"\"\n",
    "        Apply max and min function to all images and create dataframes.\n",
    "        \"\"\"\n",
    "\n",
    "        pool = []\n",
    "        for img in imgs:\n",
    "            pool_arr = self.get_pools(img=img, pool_size=2, stride=2)\n",
    "            pool.append(pool_arr)\n",
    "\n",
    "        np_pool=np.array(pool)\n",
    "\n",
    "        max_pool_arr = []\n",
    "        for pool in np_pool:\n",
    "            max_pool_arr_data = self.max_pooling(pools=pool)\n",
    "            max_pool_arr.append(max_pool_arr_data)\n",
    "\n",
    "        np_max_pool=np.array(max_pool_arr)\n",
    "\n",
    "        min_pool_arr = []\n",
    "        for pool in np_pool:\n",
    "            min_pool_arr_data = self.min_pooling(pools=pool)\n",
    "            min_pool_arr.append(min_pool_arr_data)\n",
    "\n",
    "        np_min_pool=np.array(min_pool_arr)\n",
    "\n",
    "        # flatten the max pool images\n",
    "        n_samples = len(np_max_pool)\n",
    "        np_max_pool_fl = np_max_pool.reshape((n_samples, -1))\n",
    "\n",
    "        # max pool df\n",
    "        df_max = pd.DataFrame(np_max_pool_fl).add_prefix('max_')\n",
    "\n",
    "        # flatten the min pool images\n",
    "        n_samples = len(np_min_pool)\n",
    "        np_min_pool_fl = np_min_pool.reshape((n_samples, -1))\n",
    "\n",
    "        # max pool df\n",
    "        df_min = pd.DataFrame(np_min_pool_fl).add_prefix('min_')\n",
    "\n",
    "        return df_min, df_max, np_max_pool, np_min_pool"
   ]
  },
  {
   "cell_type": "code",
   "execution_count": null,
   "id": "4XDyXODAM4oi",
   "metadata": {
    "cell_id": "00012-e7350f29-7eed-4c35-bb5b-f419f3f347ff",
    "deepnote_cell_height": 135,
    "deepnote_cell_type": "code",
    "deepnote_to_be_reexecuted": false,
    "execution_millis": 365,
    "execution_start": 1653263911652,
    "id": "4XDyXODAM4oi",
    "source_hash": "efa27b36"
   },
   "outputs": [],
   "source": [
    "# Call Zero Padding\n",
    "\n",
    "padded_images = zero_padding(digits.images)\n",
    "imgs = padded_images"
   ]
  },
  {
   "cell_type": "code",
   "execution_count": null,
   "id": "maAYfhgFM4oi",
   "metadata": {
    "cell_id": "ffbfb0c59fdd4ab99b2a8cb48c58d434",
    "deepnote_cell_height": 426.4375,
    "deepnote_cell_type": "code",
    "deepnote_to_be_reexecuted": false,
    "execution_millis": 69,
    "execution_start": 1653263912035,
    "id": "maAYfhgFM4oi",
    "outputId": "a713a74e-763c-46fa-983c-f34bc2d4bef5",
    "source_hash": "9d97d46",
    "tags": []
   },
   "outputs": [
    {
     "name": "stdout",
     "output_type": "stream",
     "text": [
      "padded_images[0].shape = (12, 12)\n",
      "[[ 0.  0.  0.  0.  0.  0.  0.  0.  0.  0.  0.  0.]\n",
      " [ 0.  0.  0.  0.  0.  0.  0.  0.  0.  0.  0.  0.]\n",
      " [ 0.  0.  0.  0.  5. 13.  9.  1.  0.  0.  0.  0.]\n",
      " [ 0.  0.  0.  0. 13. 15. 10. 15.  5.  0.  0.  0.]\n",
      " [ 0.  0.  0.  3. 15.  2.  0. 11.  8.  0.  0.  0.]\n",
      " [ 0.  0.  0.  4. 12.  0.  0.  8.  8.  0.  0.  0.]\n",
      " [ 0.  0.  0.  5.  8.  0.  0.  9.  8.  0.  0.  0.]\n",
      " [ 0.  0.  0.  4. 11.  0.  1. 12.  7.  0.  0.  0.]\n",
      " [ 0.  0.  0.  2. 14.  5. 10. 12.  0.  0.  0.  0.]\n",
      " [ 0.  0.  0.  0.  6. 13. 10.  0.  0.  0.  0.  0.]\n",
      " [ 0.  0.  0.  0.  0.  0.  0.  0.  0.  0.  0.  0.]\n",
      " [ 0.  0.  0.  0.  0.  0.  0.  0.  0.  0.  0.  0.]]\n"
     ]
    }
   ],
   "source": [
    "# Shape of each padded image = 12x12\n",
    "print('padded_images[0].shape =', padded_images[0].shape)\n",
    "\n",
    "# Checking what our padded image looks like:\n",
    "print(padded_images[0])"
   ]
  },
  {
   "cell_type": "markdown",
   "id": "8sumnuoYM4oi",
   "metadata": {
    "cell_id": "82f0b4d955b74fa79fb1af58817f3f1c",
    "deepnote_cell_height": 62,
    "deepnote_cell_type": "markdown",
    "id": "8sumnuoYM4oi",
    "tags": []
   },
   "source": [
    "### Convolution Layer 1 - Vertical edge filter (3*3)"
   ]
  },
  {
   "cell_type": "code",
   "execution_count": null,
   "id": "E7EXURiwM4oi",
   "metadata": {
    "cell_id": "00013-d12211b3-c1a9-4c25-b8a0-f2bedd902b0a",
    "deepnote_cell_height": 297,
    "deepnote_cell_type": "code",
    "deepnote_to_be_reexecuted": false,
    "execution_millis": 14538,
    "execution_start": 1653263912103,
    "id": "E7EXURiwM4oi",
    "source_hash": "ec6bbda5"
   },
   "outputs": [],
   "source": [
    "# Create a NumPy array of zeroes 1 layer deep, 3x3 area\n",
    "v_filter = np.zeros((1,3,3))\n",
    "\n",
    "# Replace the zero array with our vertical edge filter\n",
    "v_filter[0, :, :] = np.array([[[-1, 0, 1],\n",
    "                               [-1, 0, 1],\n",
    "                               [-1, 0, 1]]])\n",
    "\n",
    "# Instantiate Convolutional Layer 1 class\n",
    "c_l1 = conv_layer_1(img = imgs, conv_filter = v_filter)\n",
    "\n",
    "# Saving Vertical Edge DF\n",
    "df_ver, ver_imgs = c_l1.conv_layer_1_func(conv_filter = v_filter, imgs = imgs)"
   ]
  },
  {
   "cell_type": "markdown",
   "id": "8WudMybnM4oi",
   "metadata": {
    "cell_id": "25ce21e8e8a144ceabba92a31eff34a1",
    "deepnote_cell_height": 62,
    "deepnote_cell_type": "markdown",
    "id": "8WudMybnM4oi",
    "tags": []
   },
   "source": [
    "### Convolution Layers 2, 3 - Min, Max Pooling"
   ]
  },
  {
   "cell_type": "code",
   "execution_count": null,
   "id": "FIp8J15zM4oj",
   "metadata": {
    "cell_id": "00014-fc791a93-0eb8-48db-b409-a5a2bee785b5",
    "deepnote_cell_height": 153,
    "deepnote_cell_type": "code",
    "deepnote_to_be_reexecuted": false,
    "execution_millis": 1992,
    "execution_start": 1653263926661,
    "id": "FIp8J15zM4oj",
    "source_hash": "b66aee00"
   },
   "outputs": [],
   "source": [
    "# Instantiate Convolutional Layer 2, 3 class\n",
    "c_l2 = conv_layer_2_3(imgs, pool_size=2, stride=2)\n",
    "\n",
    "# Saving Min, Max DF\n",
    "df_min, df_max, max_imgs, min_imgs = c_l2.conv_layer_2_func(imgs, pool_size=2, stride=2)"
   ]
  },
  {
   "cell_type": "markdown",
   "id": "xFOgLdKsM4oj",
   "metadata": {
    "cell_id": "00015-bb778074-606b-4d3c-813d-6a728eac77a4",
    "deepnote_cell_height": 54,
    "deepnote_cell_type": "markdown",
    "id": "xFOgLdKsM4oj"
   },
   "source": [
    "#### Plot one image for each convoluted layer"
   ]
  },
  {
   "cell_type": "code",
   "execution_count": null,
   "id": "qIsw6z3qM4oj",
   "metadata": {
    "cell_id": "00016-51ffb700-f3a6-4f16-867a-048895763687",
    "deepnote_cell_height": 1141.1875,
    "deepnote_cell_type": "code",
    "deepnote_output_heights": [
     21.1875,
     362
    ],
    "deepnote_to_be_reexecuted": false,
    "execution_millis": 866,
    "execution_start": 1653263928683,
    "id": "qIsw6z3qM4oj",
    "outputId": "01fc28d8-9b6e-49d6-adcd-a2eb24b4f924",
    "source_hash": "81d74343"
   },
   "outputs": [
    {
     "data": {
      "text/plain": [
       "Text(0.5, 1.0, 'Padded-Image')"
      ]
     },
     "execution_count": 11,
     "metadata": {},
     "output_type": "execute_result"
    },
    {
     "data": {
      "image/png": "[encoded data removed]",
      "text/plain": [
       "<Figure size 864x432 with 6 Axes>"
      ]
     },
     "metadata": {},
     "output_type": "display_data"
    }
   ],
   "source": [
    "# Input Image - Picked 1 digit for example purposes\n",
    "fig1, ax1 = matplotlib.pyplot.subplots(nrows=2, ncols=3, figsize=(12, 6))\n",
    "ax1[0, 0].imshow(padded_images[1]).set_cmap(\"gray\")\n",
    "ax1[0, 0].get_xaxis().set_ticks([])\n",
    "ax1[0, 0].get_yaxis().set_ticks([])\n",
    "ax1[0, 0].set_title(\"Input-Image\")\n",
    "\n",
    "# Layer 1 - vertical edge filter\n",
    "ax1[0, 1].imshow(ver_imgs[1]).set_cmap(\"gray\")\n",
    "ax1[0, 1].get_xaxis().set_ticks([])\n",
    "ax1[0, 1].get_yaxis().set_ticks([])\n",
    "ax1[0, 1].set_title(\"Conv-VerticalEdge-Image\")\n",
    "\n",
    "# Layer 1 - Non padded image\n",
    "ax1[0, 2].imshow(digits.images[1]).set_cmap(\"gray\")\n",
    "ax1[0, 2].get_xaxis().set_ticks([])\n",
    "ax1[0, 2].get_yaxis().set_ticks([])\n",
    "ax1[0, 2].set_title(\"Non-Padded-Image\")\n",
    "\n",
    "# Layer 2 - max pooling\n",
    "ax1[1, 0].imshow(max_imgs[1]).set_cmap(\"gray\")\n",
    "ax1[1, 0].get_xaxis().set_ticks([])\n",
    "ax1[1, 0].get_yaxis().set_ticks([])\n",
    "ax1[1, 0].set_title(\"Conv-MaxPool-Img\")\n",
    "\n",
    "# Layer 2 - min pooling\n",
    "ax1[1, 1].imshow(min_imgs[1]).set_cmap(\"gray\")\n",
    "ax1[1, 1].get_xaxis().set_ticks([])\n",
    "ax1[1, 1].get_yaxis().set_ticks([])\n",
    "ax1[1, 1].set_title(\"Conv-MinPool-Image\")\n",
    "\n",
    "# Layer 2 - Padded Image\n",
    "ax1[1, 2].imshow(padded_images[1]).set_cmap(\"gray\")\n",
    "ax1[1, 2].get_xaxis().set_ticks([])\n",
    "ax1[1, 2].get_yaxis().set_ticks([])\n",
    "ax1[1, 2].set_title(\"Padded-Image\")"
   ]
  },
  {
   "cell_type": "markdown",
   "id": "PrevhmbDM4oj",
   "metadata": {
    "cell_id": "00017-d80d4688-b364-4337-8aa7-9893daad2477",
    "deepnote_cell_height": 54,
    "deepnote_cell_type": "markdown",
    "id": "PrevhmbDM4oj"
   },
   "source": [
    "#### Flatten the images and create dataframe with all merged layers"
   ]
  },
  {
   "cell_type": "code",
   "execution_count": null,
   "id": "G4fOANLaM4oj",
   "metadata": {
    "cell_id": "00018-00d15032-a4f7-4c95-9fb0-6f343b81db60",
    "deepnote_cell_height": 593,
    "deepnote_cell_type": "code",
    "deepnote_to_be_reexecuted": false,
    "execution_millis": 1452,
    "execution_start": 1653263929563,
    "id": "G4fOANLaM4oj",
    "outputId": "bf54af90-26e6-4518-85df-a27c15d353bd",
    "source_hash": "61fc4827",
    "tags": []
   },
   "outputs": [
    {
     "data": {
      "text/html": [
       "<div>\n",
       "<style scoped>\n",
       "    .dataframe tbody tr th:only-of-type {\n",
       "        vertical-align: middle;\n",
       "    }\n",
       "\n",
       "    .dataframe tbody tr th {\n",
       "        vertical-align: top;\n",
       "    }\n",
       "\n",
       "    .dataframe thead th {\n",
       "        text-align: right;\n",
       "    }\n",
       "</style>\n",
       "<table border=\"1\" class=\"dataframe\">\n",
       "  <thead>\n",
       "    <tr style=\"text-align: right;\">\n",
       "      <th></th>\n",
       "      <th>pix_0</th>\n",
       "      <th>pix_1</th>\n",
       "      <th>pix_2</th>\n",
       "      <th>pix_3</th>\n",
       "      <th>pix_4</th>\n",
       "      <th>pix_5</th>\n",
       "      <th>pix_6</th>\n",
       "      <th>pix_7</th>\n",
       "      <th>pix_8</th>\n",
       "      <th>pix_9</th>\n",
       "      <th>...</th>\n",
       "      <th>max_27</th>\n",
       "      <th>max_28</th>\n",
       "      <th>max_29</th>\n",
       "      <th>max_30</th>\n",
       "      <th>max_31</th>\n",
       "      <th>max_32</th>\n",
       "      <th>max_33</th>\n",
       "      <th>max_34</th>\n",
       "      <th>max_35</th>\n",
       "      <th>target</th>\n",
       "    </tr>\n",
       "  </thead>\n",
       "  <tbody>\n",
       "    <tr>\n",
       "      <th>0</th>\n",
       "      <td>0.0</td>\n",
       "      <td>0.0</td>\n",
       "      <td>5.0</td>\n",
       "      <td>13.0</td>\n",
       "      <td>9.0</td>\n",
       "      <td>1.0</td>\n",
       "      <td>0.0</td>\n",
       "      <td>0.0</td>\n",
       "      <td>0.0</td>\n",
       "      <td>0.0</td>\n",
       "      <td>...</td>\n",
       "      <td>12.0</td>\n",
       "      <td>0.0</td>\n",
       "      <td>0.0</td>\n",
       "      <td>0.0</td>\n",
       "      <td>0.0</td>\n",
       "      <td>0.0</td>\n",
       "      <td>0.0</td>\n",
       "      <td>0.0</td>\n",
       "      <td>0.0</td>\n",
       "      <td>0</td>\n",
       "    </tr>\n",
       "    <tr>\n",
       "      <th>1</th>\n",
       "      <td>0.0</td>\n",
       "      <td>0.0</td>\n",
       "      <td>0.0</td>\n",
       "      <td>12.0</td>\n",
       "      <td>13.0</td>\n",
       "      <td>5.0</td>\n",
       "      <td>0.0</td>\n",
       "      <td>0.0</td>\n",
       "      <td>0.0</td>\n",
       "      <td>0.0</td>\n",
       "      <td>...</td>\n",
       "      <td>16.0</td>\n",
       "      <td>0.0</td>\n",
       "      <td>0.0</td>\n",
       "      <td>0.0</td>\n",
       "      <td>0.0</td>\n",
       "      <td>0.0</td>\n",
       "      <td>0.0</td>\n",
       "      <td>0.0</td>\n",
       "      <td>0.0</td>\n",
       "      <td>1</td>\n",
       "    </tr>\n",
       "    <tr>\n",
       "      <th>2</th>\n",
       "      <td>0.0</td>\n",
       "      <td>0.0</td>\n",
       "      <td>0.0</td>\n",
       "      <td>4.0</td>\n",
       "      <td>15.0</td>\n",
       "      <td>12.0</td>\n",
       "      <td>0.0</td>\n",
       "      <td>0.0</td>\n",
       "      <td>0.0</td>\n",
       "      <td>0.0</td>\n",
       "      <td>...</td>\n",
       "      <td>16.0</td>\n",
       "      <td>9.0</td>\n",
       "      <td>0.0</td>\n",
       "      <td>0.0</td>\n",
       "      <td>0.0</td>\n",
       "      <td>0.0</td>\n",
       "      <td>0.0</td>\n",
       "      <td>0.0</td>\n",
       "      <td>0.0</td>\n",
       "      <td>2</td>\n",
       "    </tr>\n",
       "    <tr>\n",
       "      <th>3</th>\n",
       "      <td>0.0</td>\n",
       "      <td>0.0</td>\n",
       "      <td>7.0</td>\n",
       "      <td>15.0</td>\n",
       "      <td>13.0</td>\n",
       "      <td>1.0</td>\n",
       "      <td>0.0</td>\n",
       "      <td>0.0</td>\n",
       "      <td>0.0</td>\n",
       "      <td>8.0</td>\n",
       "      <td>...</td>\n",
       "      <td>14.0</td>\n",
       "      <td>9.0</td>\n",
       "      <td>0.0</td>\n",
       "      <td>0.0</td>\n",
       "      <td>0.0</td>\n",
       "      <td>0.0</td>\n",
       "      <td>0.0</td>\n",
       "      <td>0.0</td>\n",
       "      <td>0.0</td>\n",
       "      <td>3</td>\n",
       "    </tr>\n",
       "    <tr>\n",
       "      <th>4</th>\n",
       "      <td>0.0</td>\n",
       "      <td>0.0</td>\n",
       "      <td>0.0</td>\n",
       "      <td>1.0</td>\n",
       "      <td>11.0</td>\n",
       "      <td>0.0</td>\n",
       "      <td>0.0</td>\n",
       "      <td>0.0</td>\n",
       "      <td>0.0</td>\n",
       "      <td>0.0</td>\n",
       "      <td>...</td>\n",
       "      <td>16.0</td>\n",
       "      <td>0.0</td>\n",
       "      <td>0.0</td>\n",
       "      <td>0.0</td>\n",
       "      <td>0.0</td>\n",
       "      <td>0.0</td>\n",
       "      <td>0.0</td>\n",
       "      <td>0.0</td>\n",
       "      <td>0.0</td>\n",
       "      <td>4</td>\n",
       "    </tr>\n",
       "  </tbody>\n",
       "</table>\n",
       "<p>5 rows × 237 columns</p>\n",
       "</div>"
      ],
      "text/plain": [
       "   pix_0  pix_1  pix_2  pix_3  pix_4  pix_5  pix_6  pix_7  pix_8  pix_9  ...  \\\n",
       "0    0.0    0.0    5.0   13.0    9.0    1.0    0.0    0.0    0.0    0.0  ...   \n",
       "1    0.0    0.0    0.0   12.0   13.0    5.0    0.0    0.0    0.0    0.0  ...   \n",
       "2    0.0    0.0    0.0    4.0   15.0   12.0    0.0    0.0    0.0    0.0  ...   \n",
       "3    0.0    0.0    7.0   15.0   13.0    1.0    0.0    0.0    0.0    8.0  ...   \n",
       "4    0.0    0.0    0.0    1.0   11.0    0.0    0.0    0.0    0.0    0.0  ...   \n",
       "\n",
       "   max_27  max_28  max_29  max_30  max_31  max_32  max_33  max_34  max_35  \\\n",
       "0    12.0     0.0     0.0     0.0     0.0     0.0     0.0     0.0     0.0   \n",
       "1    16.0     0.0     0.0     0.0     0.0     0.0     0.0     0.0     0.0   \n",
       "2    16.0     9.0     0.0     0.0     0.0     0.0     0.0     0.0     0.0   \n",
       "3    14.0     9.0     0.0     0.0     0.0     0.0     0.0     0.0     0.0   \n",
       "4    16.0     0.0     0.0     0.0     0.0     0.0     0.0     0.0     0.0   \n",
       "\n",
       "   target  \n",
       "0       0  \n",
       "1       1  \n",
       "2       2  \n",
       "3       3  \n",
       "4       4  \n",
       "\n",
       "[5 rows x 237 columns]"
      ]
     },
     "execution_count": 12,
     "metadata": {},
     "output_type": "execute_result"
    }
   ],
   "source": [
    "# Flatten the images\n",
    "n_samples = len(digits.images)\n",
    "data = digits.images.reshape((n_samples, -1))\n",
    "df = pd.DataFrame(data)\n",
    "df = df.add_prefix('pix_')\n",
    "\n",
    "# Concat all the layers\n",
    "final_df = pd.concat([df, df_ver, df_min, df_max], axis=1)\n",
    "\n",
    "# Add target to the end of the DF\n",
    "final_df['target'] = pd.DataFrame(digits.target)\n",
    "final_df.head()"
   ]
  },
  {
   "cell_type": "markdown",
   "id": "3BuGEtQLM4oj",
   "metadata": {
    "cell_id": "d0209f213c1d4b4d833bf4ee92132efb",
    "deepnote_cell_height": 201.984375,
    "deepnote_cell_type": "markdown",
    "id": "3BuGEtQLM4oj",
    "tags": []
   },
   "source": [
    "### Col sections\n",
    "```\n",
    "DIM'S   AREA    COL #'S     LAYER           DESCRIPTION\n",
    "8*8     = 64    = 0-63      = 1st layer     = original digits\n",
    "10*10   = 100   = 64-164    = 2nd layer     = vertical edge\n",
    "6*6     = 36    = 165-200   = 3rd layer     = min pooling\n",
    "6*6     = 36    = 201-237   = 4th layer     = max pooling\n",
    "```"
   ]
  },
  {
   "cell_type": "code",
   "execution_count": null,
   "id": "pPFIbuOMM4oj",
   "metadata": {
    "cell_id": "ac23665282fe4dc888dd38285d22122d",
    "deepnote_cell_height": 130.1875,
    "deepnote_cell_type": "code",
    "deepnote_to_be_reexecuted": false,
    "execution_millis": 506,
    "execution_start": 1653266919778,
    "id": "pPFIbuOMM4oj",
    "outputId": "129569b6-2edf-442d-b597-037a80493f2e",
    "source_hash": "64194fa8",
    "tags": []
   },
   "outputs": [
    {
     "name": "stdout",
     "output_type": "stream",
     "text": [
      "Total features = 236 and there's a few more we added on the right of the DF like target\n"
     ]
    }
   ],
   "source": [
    "Total_features= 64 + 100 + 36 + 36 \n",
    "print(f\"Total features = {Total_features} and there's a few more we added on the right of the DF like target\")"
   ]
  },
  {
   "cell_type": "markdown",
   "id": "EsTA9zCnM4oj",
   "metadata": {
    "cell_id": "00019-558fbb07-59c2-4e34-9e16-967a441f50ba",
    "deepnote_cell_height": 54,
    "deepnote_cell_type": "markdown",
    "id": "EsTA9zCnM4oj"
   },
   "source": [
    "#### Split the data"
   ]
  },
  {
   "cell_type": "code",
   "execution_count": null,
   "id": "dWRDwkQBM4oj",
   "metadata": {
    "cell_id": "00020-c2dd5d74-3124-4447-b562-7c485e84f28f",
    "deepnote_cell_height": 171,
    "deepnote_cell_type": "code",
    "deepnote_to_be_reexecuted": false,
    "execution_millis": 52,
    "execution_start": 1653269474089,
    "id": "dWRDwkQBM4oj",
    "source_hash": "bfd2bd95"
   },
   "outputs": [],
   "source": [
    "# Split the data \n",
    "\n",
    "df_train, df_test = train_test_split(final_df, \n",
    "                                    test_size = 0.3, \n",
    "                                    random_state = 66, \n",
    "                                    stratify = final_df['target'])"
   ]
  },
  {
   "cell_type": "code",
   "execution_count": null,
   "id": "msxByiljM4oj",
   "metadata": {
    "cell_id": "00021-3f979392-0444-4920-bb67-097311aac67a",
    "deepnote_cell_height": 135,
    "deepnote_cell_type": "code",
    "deepnote_to_be_reexecuted": false,
    "execution_millis": 7088666,
    "execution_start": 1653263931168,
    "id": "msxByiljM4oj",
    "source_hash": "4134a206"
   },
   "outputs": [],
   "source": [
    "features = df_train.columns[:-1] \n",
    "target = 'target'\n",
    "X_train = df_train[features]\n",
    "#y_train = df_test[features]"
   ]
  },
  {
   "cell_type": "markdown",
   "id": "9gLSNTTKM4oj",
   "metadata": {
    "cell_id": "00022-8bc6ff7b-671e-4604-97a6-5a55b2b8b617",
    "deepnote_cell_height": 332.34375,
    "deepnote_cell_type": "markdown",
    "id": "9gLSNTTKM4oj"
   },
   "source": [
    "## Apply RandomForest Classifier and a XGBClassifier"
   ]
  },
  {
   "cell_type": "markdown",
   "id": "obCT4w0uM4ok",
   "metadata": {
    "cell_id": "00023-2adb03b2-2232-4c26-a71f-4e21559cac86",
    "deepnote_cell_height": 62,
    "deepnote_cell_type": "markdown",
    "id": "obCT4w0uM4ok",
    "owner_user_id": "cf7b039b-fe1e-4744-a888-004298af31c3"
   },
   "source": [
    "### RandomForestClassifier"
   ]
  },
  {
   "cell_type": "code",
   "execution_count": null,
   "id": "PHk9J7zWM4ok",
   "metadata": {
    "cell_id": "00024-5c4a1d1d-11a7-45b1-9048-2e9a64ee814d",
    "deepnote_cell_height": 657,
    "deepnote_cell_type": "code",
    "deepnote_to_be_reexecuted": false,
    "execution_millis": 7088659,
    "execution_start": 1653263931265,
    "id": "PHk9J7zWM4ok",
    "outputId": "eee550b3-ffd2-45bc-8d38-1b3911491942",
    "source_hash": "2e18765c"
   },
   "outputs": [
    {
     "name": "stdout",
     "output_type": "stream",
     "text": [
      "Fitting 3 folds for each of 100 candidates, totalling 300 fits\n",
      "{'n_estimators': 800, 'max_features': 'sqrt', 'max_depth': 180}\n"
     ]
    }
   ],
   "source": [
    "# Initialize Random Forest (RF) model creation\n",
    "rfc = RandomForestClassifier()\n",
    "\n",
    "# Number of trees\n",
    "n_estimators = [int(x) for x in np.linspace(start = 200, stop = 2000, num = 10)]\n",
    "\n",
    "# number of features at every split\n",
    "max_features = ['auto', 'sqrt']\n",
    "\n",
    "# max depth\n",
    "max_depth = [int(x) for x in np.linspace(20, 200, num = 10)]\n",
    "max_depth.append(None)\n",
    "\n",
    "# create random grid\n",
    "random_grid = {'n_estimators': n_estimators,\n",
    "               'max_features': max_features,\n",
    "               'max_depth': max_depth\n",
    "}\n",
    "\n",
    "# Random search of parameters\n",
    "rfc_random = RandomizedSearchCV(estimator = rfc, \n",
    "                                param_distributions = random_grid, \n",
    "                                n_iter = 100, \n",
    "                                cv = 3, \n",
    "                                verbose = 2, \n",
    "                                random_state = 66, \n",
    "                                n_jobs = -1) # -1 indicates to use the computer's maximum available CPU threads to run\n",
    "\n",
    "# Fit the model\n",
    "rfc_random.fit(X_train, df_train[target])\n",
    "\n",
    "# print results\n",
    "print(rfc_random.best_params_)"
   ]
  },
  {
   "cell_type": "code",
   "execution_count": null,
   "id": "2HHSxo-dM4ok",
   "metadata": {
    "cell_id": "00025-78a0a124-0c9c-48c5-b6f1-a62326210184",
    "deepnote_cell_height": 262.1875,
    "deepnote_cell_type": "code",
    "deepnote_output_heights": [
     21.1875
    ],
    "deepnote_to_be_reexecuted": false,
    "execution_millis": 9632,
    "execution_start": 1653263931288,
    "id": "2HHSxo-dM4ok",
    "outputId": "c2ee917c-6277-438d-949c-fd7c5e90339c",
    "source_hash": "bcf5a21"
   },
   "outputs": [
    {
     "data": {
      "text/plain": [
       "RandomForestClassifier(max_depth=180, max_features='sqrt', n_estimators=800)"
      ]
     },
     "execution_count": 17,
     "metadata": {},
     "output_type": "execute_result"
    }
   ],
   "source": [
    "# RF best params:\n",
    "#{'n_estimators': 1000, 'max_features': 'auto', 'max_depth': 120}\n",
    "\n",
    "rfc_model = RandomForestClassifier(**(rfc_random.best_params_))\n",
    "\n",
    "#rfc_model = RandomForestClassifier(n_estimators=1000, max_depth=120, max_features= 'auto')\n",
    "\n",
    "# fit the model\n",
    "rfc_model.fit(X_train, df_train[target])"
   ]
  },
  {
   "cell_type": "markdown",
   "id": "QwnWFD3hM4ok",
   "metadata": {
    "cell_id": "00026-1659d902-d059-44fe-bd8c-f29e3bc81abd",
    "deepnote_cell_height": 62,
    "deepnote_cell_type": "markdown",
    "id": "QwnWFD3hM4ok"
   },
   "source": [
    "### XGBClassifier"
   ]
  },
  {
   "cell_type": "code",
   "execution_count": null,
   "id": "a3oXbAWQM4ok",
   "metadata": {
    "cell_id": "00027-21cc77b3-ee17-4f97-b1cf-5d1a72ca085c",
    "deepnote_cell_height": 495,
    "deepnote_cell_type": "code",
    "deepnote_to_be_reexecuted": false,
    "execution_millis": 13,
    "execution_start": 1653263940935,
    "id": "a3oXbAWQM4ok",
    "outputId": "8527c75d-9763-485a-c1b3-c7b8bd119fb1",
    "source_hash": "6568a222"
   },
   "outputs": [
    {
     "name": "stdout",
     "output_type": "stream",
     "text": [
      "Fitting 3 folds for each of 10 candidates, totalling 30 fits\n"
     ]
    },
    {
     "data": {
      "text/plain": [
       "RandomizedSearchCV(cv=3, error_score=0,\n",
       "                   estimator=XGBClassifier(base_score=None, booster=None,\n",
       "                                           callbacks=None,\n",
       "                                           colsample_bylevel=None,\n",
       "                                           colsample_bynode=None,\n",
       "                                           colsample_bytree=None,\n",
       "                                           early_stopping_rounds=None,\n",
       "                                           enable_categorical=False,\n",
       "                                           eval_metric=None, gamma=None,\n",
       "                                           gpu_id=None, grow_policy=None,\n",
       "                                           importance_type=None,\n",
       "                                           interaction_constraints=None,\n",
       "                                           learning_rate=None...\n",
       "                                           monotone_constraints=None,\n",
       "                                           n_estimators=100, n_jobs=None,\n",
       "                                           num_parallel_tree=None,\n",
       "                                           predictor=None, random_state=None,\n",
       "                                           reg_alpha=None, reg_lambda=None, ...),\n",
       "                   n_jobs=-1,\n",
       "                   param_distributions={'learning_rate': <scipy.stats._distn_infrastructure.rv_frozen object at 0x0000020044366760>,\n",
       "                                        'max_depth': [3, 4, 5, 6, 7, 8, 9],\n",
       "                                        'min_child_weight': [1, 2, 3, 4],\n",
       "                                        'n_estimators': [200, 230, 460]},\n",
       "                   verbose=3)"
      ]
     },
     "execution_count": 18,
     "metadata": {},
     "output_type": "execute_result"
    }
   ],
   "source": [
    "clf_xgb = xgb.XGBClassifier()\n",
    "\n",
    "param_dist = {'n_estimators':       [200, 230, 460], # number of trees\n",
    "              'learning_rate':      scipy.stats.uniform(0.01, 0.50),\n",
    "              'max_depth':          [3, 4, 5, 6, 7, 8, 9],\n",
    "              'min_child_weight':   [1, 2, 3, 4],\n",
    "              # WARNING: THE BELOW ONES MAKE IT WORSE\n",
    "              #'subsample':          scipy.stats.uniform(0.3, 0.6),\n",
    "              #'colsample_bytree':   scipy.stats.uniform(0.5, 0.4),\n",
    "              #'num_parallel_tree':  [2],\n",
    "              #'gamma':              [0.3],\n",
    "              #'alpha':              [0.5]\n",
    "             }\n",
    "\n",
    "xgb_cv = RandomizedSearchCV(clf_xgb, \n",
    "                         param_distributions = param_dist,\n",
    "                         cv = 3,  \n",
    "                         n_iter = 10, # will use 30 fits\n",
    "                         error_score = 0, \n",
    "                         verbose = 3, \n",
    "                         #random_state = 66,\n",
    "                         n_jobs = -1) # -1 indicates to use the computer's maximum available CPU threads to run\n",
    "\n",
    "xgb_cv.fit(X_train, df_train[target])"
   ]
  },
  {
   "cell_type": "code",
   "execution_count": null,
   "id": "FiW6Cqy4M4ok",
   "metadata": {
    "cell_id": "00028-2b6c4820-ec18-4061-8535-6b3cca6ad326",
    "deepnote_cell_height": 153,
    "deepnote_cell_type": "code",
    "deepnote_to_be_reexecuted": false,
    "execution_millis": 7094062,
    "execution_start": 1653263940978,
    "id": "FiW6Cqy4M4ok",
    "outputId": "22d9ba2f-bd50-4f7c-f8e2-186e65974823",
    "source_hash": "9b787d30"
   },
   "outputs": [
    {
     "data": {
      "text/plain": [
       "{'learning_rate': 0.1096040339727528,\n",
       " 'max_depth': 3,\n",
       " 'min_child_weight': 1,\n",
       " 'n_estimators': 460}"
      ]
     },
     "execution_count": 19,
     "metadata": {},
     "output_type": "execute_result"
    }
   ],
   "source": [
    "xgb_cv.best_params_\n",
    "# xgb_best_params = {'learning_rate': 0.35902233602231903,\n",
    "#  'max_depth': 3,\n",
    "#  'min_child_weight': 2,\n",
    "#  'n_estimators': 230}"
   ]
  },
  {
   "cell_type": "code",
   "execution_count": null,
   "id": "6AnCoMhOM4ok",
   "metadata": {
    "cell_id": "00029-31a35a0e-4d25-4347-96e9-b79d6ad87239",
    "deepnote_cell_height": 436.0625,
    "deepnote_cell_type": "code",
    "deepnote_output_heights": [
     213.0625
    ],
    "deepnote_to_be_reexecuted": false,
    "execution_millis": 16114,
    "execution_start": 1653263940998,
    "id": "6AnCoMhOM4ok",
    "outputId": "a2ba645e-1ddf-4b62-afbe-f45869f10431",
    "source_hash": "742f543b"
   },
   "outputs": [
    {
     "data": {
      "text/plain": [
       "XGBClassifier(base_score=0.5, booster='gbtree', callbacks=None,\n",
       "              colsample_bylevel=1, colsample_bynode=1, colsample_bytree=1,\n",
       "              early_stopping_rounds=None, enable_categorical=False,\n",
       "              eval_metric=None, gamma=0, gpu_id=-1, grow_policy='depthwise',\n",
       "              importance_type=None, interaction_constraints='',\n",
       "              learning_rate=0.1096040339727528, max_bin=256,\n",
       "              max_cat_to_onehot=4, max_delta_step=0, max_depth=3, max_leaves=0,\n",
       "              min_child_weight=1, missing=nan, monotone_constraints='()',\n",
       "              n_estimators=460, n_jobs=0, num_parallel_tree=1,\n",
       "              objective='multi:softprob', predictor='auto', random_state=0,\n",
       "              reg_alpha=0, ...)"
      ]
     },
     "execution_count": 20,
     "metadata": {},
     "output_type": "execute_result"
    }
   ],
   "source": [
    "# Running the model on best parameters \n",
    "\n",
    "clf_model = xgb.XGBClassifier(**(xgb_cv.best_params_))\n",
    "\n",
    "#clf_model = xgb.XGBClassifier(**xgb_best_params)\n",
    "\n",
    "# fit the model\n",
    "clf_model.fit(X_train, df_train[target])"
   ]
  },
  {
   "cell_type": "markdown",
   "id": "El5d4HoYM4ok",
   "metadata": {
    "cell_id": "00030-1f9531fb-148e-4b2d-b4c6-9f3d2ce80ab6",
    "deepnote_cell_height": 243.5625,
    "deepnote_cell_type": "markdown",
    "id": "El5d4HoYM4ok"
   },
   "source": [
    "## Model Evaluation"
   ]
  },
  {
   "cell_type": "markdown",
   "id": "TvUeGofKM4ok",
   "metadata": {
    "cell_id": "00031-959cf975-1163-4cfc-9758-c41731a33ad6",
    "deepnote_cell_height": 114.390625,
    "deepnote_cell_type": "markdown",
    "id": "TvUeGofKM4ok"
   },
   "source": [
    "### Evaluate RF\n",
    "- Confusion Matrix is used to evaluate the models"
   ]
  },
  {
   "cell_type": "markdown",
   "id": "bIGDAKacM4ok",
   "metadata": {
    "cell_id": "8419f3f76755478d9504632304a4618e",
    "deepnote_cell_height": 651.03125,
    "deepnote_cell_type": "markdown",
    "id": "bIGDAKacM4ok",
    "tags": []
   },
   "source": [
    "Our model has multiple different digits (classes) which may need to be evaluated individually. This would call for a Confusion Matrix evaluation approach to see which ones are doing better and which ones are not. \n",
    "\n",
    "#### Compute the precision.\n",
    "\n",
    "The precision is the ratio tp / (tp + fp) where tp is the number of true positives and fp the number of false positives. The precision is intuitively the ability of the classifier not to label as positive a sample that is negative.\n",
    "\n",
    "The best value is 1 and the worst value is 0.\n",
    "\n",
    "#### Compute the recall.\n",
    "\n",
    "The recall is the ratio tp / (tp + fn) where tp is the number of true positives and fn the number of false negatives. The recall is intuitively the ability of the classifier to find all the positive samples.\n",
    "\n",
    "The best value is 1 and the worst value is 0.\n",
    "\n",
    "After applying a stratified split, we could see that each digit had roughly the same # of samples as the others. While this is a very even distribution of our data and actually gave better results than when leaving it up to random chance how the train test split would allocate each digit, there were some digits that had more error than others. These may have benefitted from additional samples of those specific digits for training. For example, the #9 had quite a few errors. However, in raw #'s the errors are in the range of 0 - 4 per digit, which is not that bad and explains why we can't really improve the average accuracy much past 98%. Each incorrect prediction is already a roughly 2% hit to accuracy. Most of the digits can be predicted with nearly 100% accuracy otherwise, which we can see on the Confusion Matrix results, but a few digits consistently have errors across all models and recall and precision measures.\n",
    "\n",
    "#### NOTES:\n",
    "[SOURCE: https://scikit-learn.org/stable/modules/generated/sklearn.metrics.recall_score.html#sklearn.metrics.recall_score]\n",
    "    "
   ]
  },
  {
   "cell_type": "code",
   "execution_count": null,
   "id": "TNtoonjYM4ok",
   "metadata": {
    "cell_id": "00033-211c47e5-7db0-4f19-9a60-813be6e2ca25",
    "deepnote_cell_height": 477,
    "deepnote_cell_type": "code",
    "deepnote_to_be_reexecuted": false,
    "execution_millis": 7103188,
    "execution_start": 1653263957150,
    "id": "TNtoonjYM4ok",
    "source_hash": "cd3930a6"
   },
   "outputs": [],
   "source": [
    "def evaluate_model(model_pointer, y_true, y):\n",
    "    \"\"\"\n",
    "    Evaluate the models \n",
    "    \"\"\"\n",
    "    y_pred = model_pointer.predict(y)\n",
    "    \n",
    "    # print(f'Precision score = {precision_score(y_true, y_pred, average=\"weighted\")}')\n",
    "    # print(f'Recall score = {recall_score(y_true, y_pred, average=\"weighted\")}')\n",
    "    \n",
    "    # Classification report\n",
    "    print(\n",
    "        f\"\\nClassification report for classifier {model_pointer}:\\n\"\n",
    "        f\"{metrics.classification_report(y_true, y_pred)}\\n\"\n",
    "    )\n",
    "    \n",
    "    # Confusion matrix \n",
    "    disp = metrics.ConfusionMatrixDisplay.from_predictions(y_true, y_pred)\n",
    "    disp.figure_.suptitle(\"Confusion Matrix\")\n",
    "    print(f\"Confusion matrix:\\n{disp.confusion_matrix}\")\n",
    "\n",
    "    plt.show()\n",
    "    \n",
    "    return y_pred"
   ]
  },
  {
   "cell_type": "code",
   "execution_count": null,
   "id": "b_lFnhLcM4ok",
   "metadata": {
    "cell_id": "00034-2f4367af-4af4-4223-a7d1-ac6a3ca76819",
    "deepnote_cell_height": 1043,
    "deepnote_cell_type": "code",
    "deepnote_output_heights": [
     null,
     293
    ],
    "deepnote_to_be_reexecuted": false,
    "execution_millis": 2067,
    "execution_start": 1653263957166,
    "id": "b_lFnhLcM4ok",
    "outputId": "e9965863-cf1c-463b-a447-695eeb4933c1",
    "source_hash": "a5ecc158"
   },
   "outputs": [
    {
     "name": "stdout",
     "output_type": "stream",
     "text": [
      "\n",
      "Classification report for classifier RandomForestClassifier(max_depth=180, max_features='sqrt', n_estimators=800):\n",
      "              precision    recall  f1-score   support\n",
      "\n",
      "           0       1.00      1.00      1.00        54\n",
      "           1       0.95      1.00      0.97        55\n",
      "           2       1.00      1.00      1.00        53\n",
      "           3       1.00      0.95      0.97        55\n",
      "           4       1.00      0.98      0.99        54\n",
      "           5       0.96      0.96      0.96        55\n",
      "           6       1.00      1.00      1.00        54\n",
      "           7       0.96      0.98      0.97        54\n",
      "           8       1.00      0.98      0.99        52\n",
      "           9       0.95      0.96      0.95        54\n",
      "\n",
      "    accuracy                           0.98       540\n",
      "   macro avg       0.98      0.98      0.98       540\n",
      "weighted avg       0.98      0.98      0.98       540\n",
      "\n",
      "\n",
      "Confusion matrix:\n",
      "[[54  0  0  0  0  0  0  0  0  0]\n",
      " [ 0 55  0  0  0  0  0  0  0  0]\n",
      " [ 0  0 53  0  0  0  0  0  0  0]\n",
      " [ 0  0  0 52  0  1  0  1  0  1]\n",
      " [ 0  0  0  0 53  0  0  1  0  0]\n",
      " [ 0  1  0  0  0 53  0  0  0  1]\n",
      " [ 0  0  0  0  0  0 54  0  0  0]\n",
      " [ 0  0  0  0  0  0  0 53  0  1]\n",
      " [ 0  1  0  0  0  0  0  0 51  0]\n",
      " [ 0  1  0  0  0  1  0  0  0 52]]\n"
     ]
    },
    {
     "data": {
      "image/png": "[encoded data removed]",
      "text/plain": [
       "<Figure size 432x288 with 2 Axes>"
      ]
     },
     "metadata": {
      "needs_background": "light"
     },
     "output_type": "display_data"
    }
   ],
   "source": [
    "# Evaluate function call for RF\n",
    "rfc_pred = evaluate_model(rfc_model, df_test[target], df_test[features])"
   ]
  },
  {
   "cell_type": "code",
   "execution_count": null,
   "id": "MvIOAgRTM4ol",
   "metadata": {
    "cell_id": "00035-98d5494d-1e0f-4248-a82f-001167ae918f",
    "deepnote_cell_height": 1043,
    "deepnote_cell_type": "code",
    "deepnote_output_heights": [
     null,
     293
    ],
    "deepnote_to_be_reexecuted": false,
    "execution_millis": 1958,
    "execution_start": 1653263959240,
    "id": "MvIOAgRTM4ol",
    "outputId": "09b4deb6-a037-4a9b-ef5d-ed052aa5a4b9",
    "source_hash": "ecc7e26b"
   },
   "outputs": [
    {
     "name": "stdout",
     "output_type": "stream",
     "text": [
      "\n",
      "Classification report for classifier XGBClassifier(base_score=0.5, booster='gbtree', callbacks=None,\n",
      "              colsample_bylevel=1, colsample_bynode=1, colsample_bytree=1,\n",
      "              early_stopping_rounds=None, enable_categorical=False,\n",
      "              eval_metric=None, gamma=0, gpu_id=-1, grow_policy='depthwise',\n",
      "              importance_type=None, interaction_constraints='',\n",
      "              learning_rate=0.1096040339727528, max_bin=256,\n",
      "              max_cat_to_onehot=4, max_delta_step=0, max_depth=3, max_leaves=0,\n",
      "              min_child_weight=1, missing=nan, monotone_constraints='()',\n",
      "              n_estimators=460, n_jobs=0, num_parallel_tree=1,\n",
      "              objective='multi:softprob', predictor='auto', random_state=0,\n",
      "              reg_alpha=0, ...):\n",
      "              precision    recall  f1-score   support\n",
      "\n",
      "           0       0.95      0.98      0.96        54\n",
      "           1       0.95      0.96      0.95        55\n",
      "           2       0.98      0.98      0.98        53\n",
      "           3       1.00      0.93      0.96        55\n",
      "           4       1.00      1.00      1.00        54\n",
      "           5       0.98      0.91      0.94        55\n",
      "           6       0.98      1.00      0.99        54\n",
      "           7       0.95      0.98      0.96        54\n",
      "           8       0.96      0.98      0.97        52\n",
      "           9       0.93      0.94      0.94        54\n",
      "\n",
      "    accuracy                           0.97       540\n",
      "   macro avg       0.97      0.97      0.97       540\n",
      "weighted avg       0.97      0.97      0.97       540\n",
      "\n",
      "\n",
      "Confusion matrix:\n",
      "[[53  0  0  0  0  0  0  1  0  0]\n",
      " [ 0 53  1  0  0  0  0  0  1  0]\n",
      " [ 0  0 52  0  0  0  1  0  0  0]\n",
      " [ 0  0  0 51  0  0  0  2  1  1]\n",
      " [ 0  0  0  0 54  0  0  0  0  0]\n",
      " [ 2  1  0  0  0 50  0  0  0  2]\n",
      " [ 0  0  0  0  0  0 54  0  0  0]\n",
      " [ 0  0  0  0  0  0  0 53  0  1]\n",
      " [ 0  1  0  0  0  0  0  0 51  0]\n",
      " [ 1  1  0  0  0  1  0  0  0 51]]\n"
     ]
    },
    {
     "data": {
      "image/png": "[encoded data removed]",
      "text/plain": [
       "<Figure size 432x288 with 2 Axes>"
      ]
     },
     "metadata": {
      "needs_background": "light"
     },
     "output_type": "display_data"
    }
   ],
   "source": [
    "## Evaluate function call for  XGBoost\n",
    "clf_pred = evaluate_model(clf_model, df_test[target], df_test[features])"
   ]
  },
  {
   "cell_type": "markdown",
   "id": "WerDuxkNM4ol",
   "metadata": {
    "cell_id": "00036-e13b34ab-0b4c-47e2-9a56-9dd594821990",
    "deepnote_cell_height": 764.984375,
    "deepnote_cell_type": "markdown",
    "id": "WerDuxkNM4ol"
   },
   "source": [
    "`Compare the model performance of RF and Xgboosting`\n",
    "\n",
    "### RF vs XGBoost\n",
    "\n",
    "### RF \n",
    "- the best\n",
    "- generally better when there are more classifiers (in our case digits)\n",
    "- hyperparameter tuning on RF worked pretty well with multiple percentage point increases over the base RF which didn't have any hypertuning or convoluted features\n",
    "- RF can be improved with additional hyperparameters, but RandomizedSearchCV needed to search all possibilities concurrently eventually exceeds what our machines and DeepNote can handle and we had to scale back and attempt it in smaller arrays and then check again. Attempting too many hyperparameters at once either crashes or takes hours to run\n",
    "- Since the digit distribution is fairly even, RF biasing one pathway over others is less of a concern in this case (which could have been an advantage for XGBoost if it was the other way around)\n",
    "\n",
    "### XGBoost\n",
    "- worse\n",
    "- SHOULD work better with fewer classifiers (here we have 10), but we were expecting that the 10 here would be considered \"few\" already and work well, but it didn't\n",
    "- the advantage is that it's quick and learns on its own but hyperparameter tuning doesn't seem to change the final result much, even with massive hyperparameter changes and hours of RandomdizedSearchCV, it only changes within a narrow range and actually most of what we tried only made it worst. The XGBoost results without any tuning are pretty much near the maximum accuracy we can achieve with it even after days of tuning\n",
    "- Since XGBoost's hyperparameters apply mainly to the 1st tree and afterwards it learns to adjust itself, the effect of hyperparameter tuning is likely nearly neglible as long as it's roughly in the right neighborhood\n",
    "- XGBoost might just not be an optimal method or approach when attempting to recognize the images of handwritten digits, the hyperparameters seem to be designed with massively large distributed computing in mind, multiple harddrives, multiple CPU's, and presumably incredibly large datasets, of which ours are probably considered small in comparison and weak for computing strength "
   ]
  },
  {
   "cell_type": "markdown",
   "id": "fZ2zriUIM4ol",
   "metadata": {
    "cell_id": "00037-d8dad4ca-13ee-433a-85af-49b161f8c246",
    "deepnote_cell_height": 150.78125,
    "deepnote_cell_type": "markdown",
    "id": "fZ2zriUIM4ol"
   },
   "source": [
    "## Printing best and worst predicted images"
   ]
  },
  {
   "cell_type": "code",
   "execution_count": null,
   "id": "zrQlhYRSM4ol",
   "metadata": {
    "cell_id": "00038-8ea21b43-6556-4512-8fa1-ce6916f36a2e",
    "deepnote_cell_height": 189,
    "deepnote_cell_type": "code",
    "deepnote_to_be_reexecuted": false,
    "execution_millis": 6,
    "execution_start": 1653263960749,
    "id": "zrQlhYRSM4ol",
    "source_hash": "f82ec162"
   },
   "outputs": [],
   "source": [
    "# Add predictions back to our DF for correct/wrong predictions\n",
    "df_test['rfc_pred'] = rfc_pred\n",
    "df_test['xg_pred'] = clf_pred\n",
    "\n",
    "# Find out TRUE (correct) or FALSE (incorrect) identification \n",
    "df_test['rfc_false'] = df_test[target] == df_test['rfc_pred']\n",
    "df_test['xg_false'] = df_test[target] == df_test['xg_pred']"
   ]
  },
  {
   "cell_type": "code",
   "execution_count": null,
   "id": "dp5E0TrrM4ol",
   "metadata": {
    "cell_id": "00039-ab7979c6-539e-401d-93b9-2a5295a878c7",
    "deepnote_cell_height": 189,
    "deepnote_cell_type": "code",
    "deepnote_to_be_reexecuted": false,
    "execution_millis": 12,
    "execution_start": 1653263960766,
    "id": "dp5E0TrrM4ol",
    "source_hash": "44e075f4"
   },
   "outputs": [],
   "source": [
    "# Pull out original layer images columns\n",
    "img_col = df_test.columns[df_test.columns.str.contains('pix_')|\\\n",
    "                          df_test.columns.str.contains('target')|\\\n",
    "                          df_test.columns.str.contains('rfc_')|\\\n",
    "                          df_test.columns.str.contains('xg_')]\n",
    "\n",
    "img_col1 = df_test.columns[df_test.columns.str.contains('pix_')]"
   ]
  },
  {
   "cell_type": "code",
   "execution_count": null,
   "id": "DTLkhUuEM4ol",
   "metadata": {
    "cell_id": "00040-4c0560c3-531a-41bb-9483-192bae2393e7",
    "deepnote_cell_height": 225,
    "deepnote_cell_type": "code",
    "deepnote_to_be_reexecuted": false,
    "execution_millis": 14,
    "execution_start": 1653263960783,
    "id": "DTLkhUuEM4ol",
    "source_hash": "7789f9a1"
   },
   "outputs": [],
   "source": [
    "# Reshape array into 2D images\n",
    "def conver_2d_imgs(df, cols, m, n):\n",
    "    \n",
    "    images = []\n",
    "    for i in range(len(df)):\n",
    "        img = df[cols].loc[i].ravel().reshape(m, n)\n",
    "        images.append(img)\n",
    "        \n",
    "    return images"
   ]
  },
  {
   "cell_type": "code",
   "execution_count": null,
   "id": "y1pr7SKhM4ol",
   "metadata": {
    "cell_id": "f8ca38c2b3be49f784171aeaf1482855",
    "deepnote_cell_height": 315,
    "deepnote_cell_type": "code",
    "deepnote_to_be_reexecuted": false,
    "execution_millis": 15,
    "execution_start": 1653263960804,
    "id": "y1pr7SKhM4ol",
    "source_hash": "bbcbde2a",
    "tags": []
   },
   "outputs": [],
   "source": [
    "def plot_images(predictions, images, target, w, h):\n",
    "    \"\"\"\n",
    "    Plot images via matplotlib\n",
    "    \"\"\"\n",
    "\n",
    "    if len(predictions)>0:\n",
    "        _, axes = plt.subplots(nrows=1, ncols=len(predictions), figsize=(w, h))\n",
    "        for ax, image, prediction, target in zip(axes, images, predictions, target):\n",
    "            ax.set_axis_off()\n",
    "            ax.imshow(image, cmap=plt.cm.gray_r, interpolation=\"nearest\")\n",
    "            ax.set_title(f'''Pred: {prediction}\n",
    "            Tar: {target}''')\n",
    "    else:\n",
    "        print(\"No best images predication compared to other model\")"
   ]
  },
  {
   "cell_type": "code",
   "execution_count": null,
   "id": "rMV_KCA3M4ol",
   "metadata": {
    "cell_id": "20b67629156f440f93baa44ba08ade93",
    "deepnote_cell_height": 405,
    "deepnote_cell_type": "code",
    "deepnote_to_be_reexecuted": false,
    "execution_millis": 13,
    "execution_start": 1653263960830,
    "id": "rMV_KCA3M4ol",
    "source_hash": "984087d4",
    "tags": []
   },
   "outputs": [],
   "source": [
    "def filter_df(df, condition, req_col, req_col1, m, n):\n",
    "    \"\"\"\n",
    "    Filter the DF based on pass/fail conditions\n",
    "    \"\"\"\n",
    "    \n",
    "    # All images pull based on condition\n",
    "    df_false = df.loc[condition]\n",
    "\n",
    "    if (len(df_false)==0):\n",
    "        return '0', '0'\n",
    "\n",
    "    else:\n",
    "        # Reset_index\n",
    "        df_img = df_false[req_col].reset_index().drop('index', axis=1)\n",
    "\n",
    "        # Create images\n",
    "        images_2d = conver_2d_imgs(df_img, req_col1, m, n)\n",
    "        \n",
    "        return images_2d, df_img"
   ]
  },
  {
   "cell_type": "code",
   "execution_count": null,
   "id": "om6MM9CrM4ol",
   "metadata": {
    "cell_id": "e8e5f0a388c84e28b7104589946b73f5",
    "deepnote_cell_height": 315,
    "deepnote_cell_type": "code",
    "deepnote_to_be_reexecuted": false,
    "execution_millis": 81,
    "execution_start": 1653263960850,
    "id": "om6MM9CrM4ol",
    "source_hash": "db76163",
    "tags": []
   },
   "outputs": [],
   "source": [
    "# RF\n",
    "# RF false identification \n",
    "rf_img_f, rf_df_f = filter_df(df_test, df_test['rfc_false'] == False, img_col, img_col1, 8, 8)\n",
    "\n",
    "# RF best identification over XGBoost\n",
    "rf_img_b, rf_df_b = filter_df(df_test, (df_test['xg_false'] == False) & (df_test['rfc_false'] == True), img_col, img_col1, 8, 8)\n",
    "\n",
    "# XGBoost\n",
    "# XG false identification \n",
    "xg_img_f, xg_df_f = filter_df(df_test, df_test['xg_false'] == False, img_col, img_col1, 8, 8)\n",
    "\n",
    "# XG best identification over RF\n",
    "xg_img_b, xg_df_b = filter_df(df_test, (df_test['rfc_false'] == False) & (df_test['xg_false'] == True)\n",
    "                              , img_col, img_col1, 8, 8)"
   ]
  },
  {
   "cell_type": "markdown",
   "id": "YmIQBk-BM4ol",
   "metadata": {
    "cell_id": "9918694cf67445b3878c813ec4a2c4c6",
    "deepnote_cell_height": 54,
    "deepnote_cell_type": "markdown",
    "id": "YmIQBk-BM4ol",
    "tags": []
   },
   "source": [
    "#### False identified images by RF"
   ]
  },
  {
   "cell_type": "code",
   "execution_count": null,
   "id": "-nmUxVNpM4ol",
   "metadata": {
    "cell_id": "ff7bc6277ac44077bac7bafdd2446023",
    "deepnote_cell_height": 243,
    "deepnote_cell_type": "code",
    "deepnote_output_heights": [
     110
    ],
    "deepnote_to_be_reexecuted": false,
    "execution_millis": 947,
    "execution_start": 1653263960938,
    "id": "-nmUxVNpM4ol",
    "outputId": "d7575aee-0aac-4e23-8f28-fc238ae8d882",
    "source_hash": "6c8d8cb4",
    "tags": []
   },
   "outputs": [
    {
     "data": {
      "image/png": "[encoded data removed]",
      "text/plain": [
       "<Figure size 864x504 with 10 Axes>"
      ]
     },
     "metadata": {
      "needs_background": "light"
     },
     "output_type": "display_data"
    }
   ],
   "source": [
    "# Falsely identified images\n",
    "\n",
    "plot_images(rf_df_f['rfc_pred'], rf_img_f, rf_df_f['target'], 12, 7)"
   ]
  },
  {
   "cell_type": "markdown",
   "id": "82fqve5KM4ol",
   "metadata": {
    "cell_id": "1756de4c807f4022b7be4cec615e1df8",
    "deepnote_cell_height": 54,
    "deepnote_cell_type": "markdown",
    "id": "82fqve5KM4ol",
    "tags": []
   },
   "source": [
    "#### Best predictions done by RF"
   ]
  },
  {
   "cell_type": "code",
   "execution_count": null,
   "id": "YQ-dioS7M4ol",
   "metadata": {
    "cell_id": "73a71a62cbfc4ef5964ac9da5a0586bd",
    "deepnote_cell_height": 291,
    "deepnote_cell_type": "code",
    "deepnote_output_heights": [
     104
    ],
    "deepnote_to_be_reexecuted": false,
    "execution_millis": 1009,
    "execution_start": 1653263961934,
    "id": "YQ-dioS7M4ol",
    "outputId": "d84991d7-8a5f-4a65-ec21-d57c62e8b4ee",
    "source_hash": "90583498",
    "tags": []
   },
   "outputs": [
    {
     "data": {
      "image/png": "[encoded data removed]",
      "text/plain": [
       "<Figure size 864x504 with 10 Axes>"
      ]
     },
     "metadata": {
      "needs_background": "light"
     },
     "output_type": "display_data"
    }
   ],
   "source": [
    "# Best predictions done by RF which is failed by XGBoost\n",
    "\n",
    "if len(rf_df_b) != 1:\n",
    "    plot_images(rf_df_b['rfc_pred'], rf_img_b, rf_df_b['target'], 12, 7)\n",
    "else:\n",
    "    print('No best images prediction compared to the other model')"
   ]
  },
  {
   "cell_type": "markdown",
   "id": "LJGlk5GtM4ol",
   "metadata": {
    "cell_id": "c3601fde7b0f460389bb05441354a392",
    "deepnote_cell_height": 54,
    "deepnote_cell_type": "markdown",
    "id": "LJGlk5GtM4ol",
    "tags": []
   },
   "source": [
    "#### False identified images by XGBoost"
   ]
  },
  {
   "cell_type": "code",
   "execution_count": null,
   "id": "XPOddZThM4ol",
   "metadata": {
    "cell_id": "f1551e8d7ece4672bbf22834fe426564",
    "deepnote_cell_height": 222.890625,
    "deepnote_cell_type": "code",
    "deepnote_output_heights": [
     89.890625
    ],
    "deepnote_to_be_reexecuted": false,
    "execution_millis": 1723,
    "execution_start": 1653263963160,
    "id": "XPOddZThM4ol",
    "outputId": "90ab05e9-2397-4419-9e6f-10a1b2665ee9",
    "source_hash": "6a70322d",
    "tags": []
   },
   "outputs": [
    {
     "data": {
      "image/png": "[encoded data removed]",
      "text/plain": [
       "<Figure size 1152x504 with 18 Axes>"
      ]
     },
     "metadata": {
      "needs_background": "light"
     },
     "output_type": "display_data"
    }
   ],
   "source": [
    "# False identified images\n",
    "\n",
    "plot_images(xg_df_f['xg_pred'], xg_img_f, xg_df_f['target'], 16, 7)"
   ]
  },
  {
   "cell_type": "markdown",
   "id": "wgn78clCM4ol",
   "metadata": {
    "cell_id": "58fcee8149dd4f5aaeb80d930b765b2f",
    "deepnote_cell_height": 46,
    "deepnote_cell_type": "markdown",
    "id": "wgn78clCM4ol",
    "tags": []
   },
   "source": []
  },
  {
   "cell_type": "markdown",
   "id": "93f9O7k7M4ol",
   "metadata": {
    "cell_id": "6c1c4c7e2a6144f0b1ea429bf2069aab",
    "deepnote_cell_height": 54,
    "deepnote_cell_type": "markdown",
    "id": "93f9O7k7M4ol",
    "tags": []
   },
   "source": [
    "#### Best predictions done by XGBoost"
   ]
  },
  {
   "cell_type": "code",
   "execution_count": null,
   "id": "FMdzaIXsM4ol",
   "metadata": {
    "cell_id": "a6b2ae098345429894be922afd24e648",
    "deepnote_cell_height": 277,
    "deepnote_cell_type": "code",
    "deepnote_output_heights": [
     108
    ],
    "deepnote_to_be_reexecuted": false,
    "execution_millis": 402,
    "execution_start": 1653263964938,
    "id": "FMdzaIXsM4ol",
    "outputId": "2253902d-2e2d-4e8a-a19c-39076b63e519",
    "source_hash": "d163990f",
    "tags": []
   },
   "outputs": [
    {
     "data": {
      "image/png": "[encoded data removed]",
      "text/plain": [
       "<Figure size 360x144 with 2 Axes>"
      ]
     },
     "metadata": {
      "needs_background": "light"
     },
     "output_type": "display_data"
    }
   ],
   "source": [
    "# Best predictions done by XGBoost which has failed by RF\n",
    "if len(xg_df_b) != 1:\n",
    "    plot_images(xg_df_b['xg_pred'], xg_img_b, xg_df_b['target'], 5, 2)\n",
    "else:\n",
    "    print('No best images predication compared to other model')"
   ]
  },
  {
   "cell_type": "markdown",
   "id": "5HiyQjBIM4om",
   "metadata": {
    "cell_id": "4ce334fbb2db4947865ae53b61ee7753",
    "deepnote_cell_height": 46,
    "deepnote_cell_type": "markdown",
    "id": "5HiyQjBIM4om",
    "tags": []
   },
   "source": []
  },
  {
   "cell_type": "markdown",
   "id": "szX91gj6M4om",
   "metadata": {
    "cell_id": "4921668c99b3478fb688c2d53a90be8d",
    "deepnote_cell_height": 763.9375,
    "deepnote_cell_type": "markdown",
    "id": "szX91gj6M4om",
    "owner_user_id": "860a0efb-9506-4a03-be16-84df263ab6b3",
    "tags": []
   },
   "source": [
    "`- what makes the models fail and how they can improve.`\n",
    "\n",
    "If we look at the printouts of digits (please see above code blocks) that failed to predict correctly, we can see that the reason many of them ended up there is pretty much bad handwriting... Overlapping parts, missing gaps, and similarities to other digits abound. As a human, I would have trouble identifying some of these. \n",
    "\n",
    "If you look at the F1 scores from the Confusion Matrices (this combines the Precision and Recall scores) you can see the #9 is consistently the worst performer across both RF and XGBoost, as well as both Recall and Precision measurements. This backs up what we see in the printouts of the failed predictions. The digit #9 is confused with: 1, 3, 5, 7. This would definitely benefit from having more samples to train on. In 2nd and 3rd place for worst would be digits #3 and #5. \n",
    "\n",
    "If there's a lot of errors in 1 particular digit, it may need more training data there to learn it better. Ideally, this would be the best solution: MORE DATA! Specifically for the digits: 9, 5, 3. In the same vien, higher quality data that is better resolution than 8x8 pixels would probably show spaces inside digits better and be less likely to be mixed up with another digit.\n",
    "\n",
    "However, in leiu of generating additional data, what can we do here with our current existing models? \n",
    "- K-folds: increase the CV from 3 to something higher like 5, we've tested this before and gotten improved results\n",
    "- RF: run with a much larger array at the same time in RandomizedSearchCV to identify a wider spectrum of possible answers, however, we've also attempted many variations of this and mostly settled on running it with smaller arrays of hyperparameters due to DeepNote crashing, or our laptops crashing, or running for many hours only to produce no output and possibly having lost everything due to RAM running out. We also managed to get several different optimized hyperparameter combinations here, which I suspect is due to local minimums that we see as a result of a narrow array. But there is probably room to improve this further if we had more capable hardware that could run more combinations at once\n",
    "- XGBoost: probably should not be used here but in order to see advantages over RF, we'd probably want to add in more data for the failing identifications (#'s 9, 5, 3) and thus create an uneven class balance of digits, while also increasing the dataset size. This should probably start to improve over RF, but also taking advantage of the computing resources better in the hyperparameters would probably have better outcomes than other hyperparameter tuning as a result of the way XGBoost works \n",
    "- Extra convolutional layers: I think that we had included a Horizontal edge convlutional feature, then maybe it would be able to figure out digits better. Along the same line of reasoning, probably including edges that are at angles, like 45 degrees, would also help improve the accuracy. If there is a way to apply a circular filter as well, this may help for digits like 0, 5, 8, 9. "
   ]
  }
 ],
 "metadata": {
  "colab": {
   "collapsed_sections": [
    "xFOgLdKsM4oj",
    "PrevhmbDM4oj",
    "EsTA9zCnM4oj",
    "bIGDAKacM4ok",
    "YmIQBk-BM4ol",
    "82fqve5KM4ol",
    "LJGlk5GtM4ol"
   ],
   "name": "DATA602-Group5-Project5.ipynb",
   "provenance": []
  },
  "deepnote": {},
  "deepnote_execution_queue": [],
  "deepnote_notebook_id": "e6ce8a63-35f2-4920-85ca-ec7e3d8eb9c0",
  "interpreter": {
   "hash": "7de8f7f129c7ff179e9eadc0964aa3a2618a707f93db665b5b6ae49e7f46bd69"
  },
  "kernelspec": {
   "display_name": "Python 3 (ipykernel)",
   "language": "python",
   "name": "python3"
  },
  "language_info": {
   "codemirror_mode": {
    "name": "ipython",
    "version": 3
   },
   "file_extension": ".py",
   "mimetype": "text/x-python",
   "name": "python",
   "nbconvert_exporter": "python",
   "pygments_lexer": "ipython3",
   "version": "3.9.7"
  }
 },
 "nbformat": 4,
 "nbformat_minor": 5
}
